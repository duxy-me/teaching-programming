{
 "cells": [
  {
   "cell_type": "code",
   "execution_count": null,
   "id": "7a4aa405-3e85-40c1-9af6-ddb367c810e1",
   "metadata": {},
   "outputs": [],
   "source": [
    "from robot_simulator import RobotSimulator, RobotController\n",
    "from time import sleep\n",
    "import threading\n",
    "\n",
    "map_data = [\n",
    "    ['.', '.', '.', '.', '.'],\n",
    "    ['.', '#', '#', '.', '.'],\n",
    "    ['S', '.', '.', '.', 'E'],\n",
    "    ['.', '#', '.', '.', '.'],\n",
    "    ['.', '.', '.', '#', '.']\n",
    "]\n",
    "\n",
    "\n",
    "sim = RobotSimulator(map_data)  # ✅ 正确\n",
    "\n",
    "controller = RobotController(sim)\n",
    "\n",
    "controller.turn_right()   # 立即把动作放队列，不执行\n",
    "controller.move_forward()\n",
    "controller.move_forward()\n",
    "controller.turn_left()\n",
    "\n",
    "controller.start()\n",
    "sim.run()\n",
    "\n"
   ]
  },
  {
   "cell_type": "code",
   "execution_count": null,
   "id": "1403c0ac-f81b-450b-ae27-9161a802d776",
   "metadata": {},
   "outputs": [],
   "source": []
  }
 ],
 "metadata": {
  "kernelspec": {
   "display_name": "Python 3 (ipykernel)",
   "language": "python",
   "name": "python3"
  },
  "language_info": {
   "codemirror_mode": {
    "name": "ipython",
    "version": 3
   },
   "file_extension": ".py",
   "mimetype": "text/x-python",
   "name": "python",
   "nbconvert_exporter": "python",
   "pygments_lexer": "ipython3",
   "version": "3.12.2"
  }
 },
 "nbformat": 4,
 "nbformat_minor": 5
}
